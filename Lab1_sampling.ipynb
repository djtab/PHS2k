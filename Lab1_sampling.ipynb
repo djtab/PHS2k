{
    "cells": [
        {
            "cell_type": "markdown",
            "metadata": {},
            "source": [
                "# Coding Exercise #1\n",
                "\n"
            ]
        },
        {
            "cell_type": "code",
            "execution_count": null,
            "metadata": {},
            "outputs": [],
            "source": [
                "# Import the population data\n",
                "ice_cream <- read.csv(\"<directory>/ice_cream.csv\") # update this line with the directory where you saved the CSV file\n",
                "pop_size <- nrow(ice_cream)\n"
            ]
        },
        {
            "cell_type": "markdown",
            "metadata": {},
            "source": "\n"
        },
        {
            "cell_type": "code",
            "execution_count": null,
            "metadata": {},
            "outputs": [],
            "source": [
                "# Draw the random sample of n=10\n",
                "set.seed(12345)\n",
                "n <- 10\n",
                "samp_ids <- sample(1:pop_size, n)\n",
                "samp <- ice_cream[samp_ids, ]\n",
                "samp\n"
            ]
        },
        {
            "cell_type": "markdown",
            "metadata": {},
            "source": [
                "What is the sample mean? What's the sample variance? \n",
                "\n"
            ]
        },
        {
            "cell_type": "code",
            "execution_count": null,
            "metadata": {},
            "outputs": [],
            "source": [
                "\n",
                "\n"
            ]
        },
        {
            "cell_type": "markdown",
            "metadata": {},
            "source": [
                "# Coding Exercise #2 \n",
                "\n",
                "How many combinations are possible\n"
            ]
        },
        {
            "cell_type": "code",
            "execution_count": null,
            "metadata": {},
            "outputs": [],
            "source": [
                "choose(16000, 10)\n",
                "\n"
            ]
        },
        {
            "cell_type": "markdown",
            "metadata": {},
            "source": [
                "\n",
                "Draw samples\n"
            ]
        },
        {
            "cell_type": "code",
            "execution_count": null,
            "metadata": {},
            "outputs": [],
            "source": [
                "# Draw 1000 samples of size 10\n",
                "set.seed(12345)\n",
                "all.samples <- replicate(1000, sample(1:pop_size, size = 10))\n",
                "\n",
                "sample.means <- rep(NA, 1000)\n",
                "sample.vars <- rep(NA, 1000)\n",
                "for (i in 1:1000) {\n",
                "  samp_obs <- all.samples[, i]\n",
                "  vals <- ice_cream$scoops[samp_obs]\n",
                "  sample.means[i] <- mean(vals)\n",
                "  sample.vars[i] <- var(vals)\n",
                "}\n"
            ]
        },
        {
            "cell_type": "markdown",
            "metadata": {},
            "source": "\n"
        },
        {
            "cell_type": "code",
            "execution_count": null,
            "metadata": {},
            "outputs": [],
            "source": [
                "# Look at the sample means from the first few samples of size 10\n",
                "head(sample.means)\n"
            ]
        },
        {
            "cell_type": "markdown",
            "metadata": {},
            "source": "\n"
        },
        {
            "cell_type": "code",
            "execution_count": null,
            "metadata": {},
            "outputs": [],
            "source": [
                "# Plot the sampling distribution of means from samples of size 10\n",
                "ggplot(data.frame(sample.means)) +\n",
                "  geom_histogram(aes(x = sample.means), bins = 50) +\n",
                "  theme_classic() +\n",
                "  coord_cartesian(expand = FALSE) +\n",
                "  labs(\n",
                "    title = \"Sampling distribution of sample mean of X, with n = 10\",\n",
                "    x = \"sample mean\"\n",
                "  )\n"
            ]
        },
        {
            "cell_type": "markdown",
            "metadata": {},
            "source": "\n"
        },
        {
            "cell_type": "code",
            "execution_count": null,
            "metadata": {},
            "outputs": [],
            "source": [
                "mean(sample.means)\n",
                "mean(sample.vars)\n"
            ]
        },
        {
            "cell_type": "markdown",
            "metadata": {},
            "source": [
                "\n",
                "Alter code above to produce and describe the sampling distribution from 1000 samples of size 100\n"
            ]
        },
        {
            "cell_type": "code",
            "execution_count": null,
            "metadata": {},
            "outputs": [],
            "source": [
                "\n",
                "\n"
            ]
        },
        {
            "cell_type": "markdown",
            "metadata": {},
            "source": [
                "\n",
                "# Coding Exercise #3 \n"
            ]
        },
        {
            "cell_type": "code",
            "execution_count": null,
            "metadata": {},
            "outputs": [],
            "source": [
                "## Stratified random sampling\n",
                "\n",
                "# check distribution by field\n",
                "table(as.factor(ice_cream$field))\n"
            ]
        },
        {
            "cell_type": "markdown",
            "metadata": {},
            "source": "\n"
        },
        {
            "cell_type": "code",
            "execution_count": null,
            "metadata": {},
            "outputs": [],
            "source": [
                "# subset by field\n",
                "GHP <- subset(ice_cream, field == \"GHP\")\n",
                "EH <- subset(ice_cream, field == \"EH\")\n",
                "Nut <- subset(ice_cream, field == \"Nut\")\n",
                "SBS <- subset(ice_cream, field == \"SBS\")\n",
                "Epi <- subset(ice_cream, field == \"Epi\")\n"
            ]
        },
        {
            "cell_type": "markdown",
            "metadata": {},
            "source": "\n"
        },
        {
            "cell_type": "code",
            "execution_count": null,
            "metadata": {},
            "outputs": [],
            "source": [
                "# sample 1/5 (n=20) from each subset\n",
                "n_strat <- 100\n",
                "\n",
                "# sample 1/5 from each subset\n",
                "set.seed(039682)\n",
                "samp_strat <- rbind(\n",
                "  GHP[sample(1:nrow(GHP), n_strat/5), ],\n",
                "  EH[sample(1:nrow(EH), n_strat/5), ],\n",
                "  Nut[sample(1:nrow(Nut), n_strat/5), ],\n",
                "  SBS[sample(1:nrow(SBS), n_strat/5), ],\n",
                "  Epi[sample(1:nrow(Epi), n_strat/5), ]\n",
                ")\n"
            ]
        },
        {
            "cell_type": "markdown",
            "metadata": {},
            "source": "\n"
        },
        {
            "cell_type": "code",
            "execution_count": null,
            "metadata": {},
            "outputs": [],
            "source": [
                "# subset each sample by fields of study of interest\n",
                "samp_nut_strat <- subset(samp_strat, field == \"Nut\")\n",
                "samp_ghp_strat <- subset(samp_strat, field == \"GHP\")\n",
                "samp_eh_strat <- subset(samp_strat, field == \"EH\")\n",
                "samp_epi_strat <- subset(samp_strat, field == \"Epi\")\n",
                "samp_sbs_strat <- subset(samp_strat, field == \"SBS\")\n"
            ]
        },
        {
            "cell_type": "markdown",
            "metadata": {},
            "source": "\n"
        },
        {
            "cell_type": "code",
            "execution_count": null,
            "metadata": {},
            "outputs": [],
            "source": [
                "# stratified means of interest\n",
                "samp_nut_mean_strat <- mean(samp_nut_strat$scoops)\n",
                "samp_ghp_mean_strat <- mean(samp_ghp_strat$scoops)\n",
                "samp_eh_mean_strat <- mean(samp_eh_strat$scoops)\n",
                "samp_epi_mean_strat <- mean(samp_epi_strat$scoops)\n",
                "samp_sbs_mean_strat <- mean(samp_sbs_strat$scoops)\n"
            ]
        },
        {
            "cell_type": "markdown",
            "metadata": {},
            "source": "\n"
        },
        {
            "cell_type": "code",
            "execution_count": null,
            "metadata": {},
            "outputs": [],
            "source": [
                "# apply weights\n",
                "samp_nut_mean_strat.w <- mean(samp_nut_strat$scoops)*(1626/16000)\n",
                "samp_ghp_mean_strat.w <- mean(samp_ghp_strat$scoops)*(1608/16000)\n",
                "samp_eh_mean_strat.w <- mean(samp_eh_strat$scoops)*(3978/16000)\n",
                "samp_epi_mean_strat.w <- mean(samp_epi_strat$scoops)*(5610/16000)\n",
                "samp_sbs_mean_strat.w <- mean(samp_sbs_strat$scoops)*(3178/16000)\n"
            ]
        },
        {
            "cell_type": "markdown",
            "metadata": {},
            "source": [
                "\n",
                "# add to find overall mean\n"
            ]
        },
        {
            "cell_type": "code",
            "execution_count": null,
            "metadata": {},
            "outputs": [],
            "source": [
                "\n",
                "\n"
            ]
        },
        {
            "cell_type": "markdown",
            "metadata": {},
            "source": "\n"
        }
    ],
    "metadata": {
        "anaconda-cloud": "",
        "kernelspec": {
            "display_name": "R",
            "langauge": "R",
            "name": "ir"
        },
        "language_info": {
            "codemirror_mode": "r",
            "file_extension": ".r",
            "mimetype": "text/x-r-source",
            "name": "R",
            "pygments_lexer": "r",
            "version": "3.4.1"
        }
    },
    "nbformat": 4,
    "nbformat_minor": 1
}
